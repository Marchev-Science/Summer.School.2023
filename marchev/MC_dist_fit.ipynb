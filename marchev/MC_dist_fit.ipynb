{
 "cells": [
  {
   "cell_type": "markdown",
   "id": "c1c4a11e",
   "metadata": {
    "toc": true
   },
   "source": [
    "<h1>Table of Contents<span class=\"tocSkip\"></span></h1>\n",
    "<div class=\"toc\"><ul class=\"toc-item\"></ul></div>"
   ]
  },
  {
   "cell_type": "code",
   "execution_count": 2,
   "id": "cc9b221f",
   "metadata": {
    "ExecuteTime": {
     "end_time": "2023-02-15T21:57:19.037026Z",
     "start_time": "2023-02-15T21:57:19.035213Z"
    }
   },
   "outputs": [],
   "source": [
    "#!pip install fitter"
   ]
  },
  {
   "cell_type": "code",
   "execution_count": 16,
   "id": "3f23d0d5",
   "metadata": {
    "ExecuteTime": {
     "end_time": "2023-07-17T12:01:45.697421Z",
     "start_time": "2023-07-17T12:01:45.674600Z"
    }
   },
   "outputs": [],
   "source": [
    "import random\n",
    "import numpy as np\n",
    "import seaborn as sns\n",
    "from fitter import Fitter, get_common_distributions, get_distributions"
   ]
  },
  {
   "cell_type": "code",
   "execution_count": 17,
   "id": "18ab9884",
   "metadata": {
    "ExecuteTime": {
     "end_time": "2023-07-17T12:01:46.808560Z",
     "start_time": "2023-07-17T12:01:46.757849Z"
    }
   },
   "outputs": [],
   "source": [
    "# Define the inputs and their probability distributions\n",
    "inputs = {\"input_1\": {\"mean\": 10, \"std_dev\": 2},\n",
    "          \"input_2\": {\"mean\": 20, \"std_dev\": 3}}"
   ]
  },
  {
   "cell_type": "code",
   "execution_count": 18,
   "id": "6efcfba8",
   "metadata": {
    "ExecuteTime": {
     "end_time": "2023-07-17T12:01:48.444229Z",
     "start_time": "2023-07-17T12:01:48.363191Z"
    }
   },
   "outputs": [],
   "source": [
    "# Number of iterations\n",
    "num_iterations = 10000\n",
    "\n",
    "# Storage for simulation results\n",
    "results = []"
   ]
  },
  {
   "cell_type": "code",
   "execution_count": 19,
   "id": "c53a42aa",
   "metadata": {
    "ExecuteTime": {
     "end_time": "2023-07-17T12:01:49.701199Z",
     "start_time": "2023-07-17T12:01:49.526317Z"
    }
   },
   "outputs": [],
   "source": [
    "# Run the simulation\n",
    "for i in range(num_iterations):\n",
    "    # Generate random values for each input based on its distribution\n",
    "    input_1 = np.random.normal(inputs[\"input_1\"][\"mean\"], inputs[\"input_1\"][\"std_dev\"])\n",
    "    input_2 = np.random.normal(inputs[\"input_2\"][\"mean\"], inputs[\"input_2\"][\"std_dev\"])\n",
    "\n",
    "    # Calculate the output of the model\n",
    "    output = input_1**2 +input_1*input_2+ input_2**2\n",
    "\n",
    "    # Store the result\n",
    "    results.append(output)"
   ]
  },
  {
   "cell_type": "code",
   "execution_count": 20,
   "id": "49cd881b",
   "metadata": {
    "ExecuteTime": {
     "end_time": "2023-07-17T12:01:50.772381Z",
     "start_time": "2023-07-17T12:01:50.720426Z"
    }
   },
   "outputs": [],
   "source": [
    "# Analyze the results\n",
    "mean_result = np.mean(results)\n",
    "std_dev_result = np.std(results)"
   ]
  },
  {
   "cell_type": "code",
   "execution_count": 21,
   "id": "d4dea89a",
   "metadata": {
    "ExecuteTime": {
     "end_time": "2023-07-17T12:01:58.341511Z",
     "start_time": "2023-07-17T12:01:51.883415Z"
    }
   },
   "outputs": [
    {
     "name": "stdout",
     "output_type": "stream",
     "text": [
      "Mean result:  712.7210337378147\n",
      "Standard deviation of result:  169.7429768551534\n"
     ]
    }
   ],
   "source": [
    "# Visualize the results\n",
    "sns.set_style('white')\n",
    "sns.set_context(\"paper\", font_scale = 2)\n",
    "\n",
    "sns.displot(data=results, x=results, kind=\"hist\", bins = 100, aspect = 1.5)\n",
    "\n",
    "# Print the results\n",
    "print(\"Mean result: \", mean_result)\n",
    "print(\"Standard deviation of result: \", std_dev_result)"
   ]
  },
  {
   "cell_type": "code",
   "execution_count": 22,
   "id": "2545c795",
   "metadata": {
    "ExecuteTime": {
     "end_time": "2023-07-17T12:11:13.727232Z",
     "start_time": "2023-07-17T12:02:14.055207Z"
    }
   },
   "outputs": [
    {
     "name": "stderr",
     "output_type": "stream",
     "text": [
      "Fitting 110 distributions:   0%|                        | 0/110 [00:00<?, ?it/s]SKIPPED _fit distribution (taking more than 60 seconds)\n",
      "Fitting 110 distributions:  14%|██             | 15/110 [00:59<03:28,  2.19s/it]SKIPPED burr distribution (taking more than 60 seconds)\n",
      "Fitting 110 distributions:  19%|██▊            | 21/110 [01:40<13:32,  9.13s/it]SKIPPED crystalball distribution (taking more than 60 seconds)\n",
      "Fitting 110 distributions:  23%|███▍           | 25/110 [01:55<08:04,  5.71s/it]SKIPPED exponweib distribution (taking more than 60 seconds)\n",
      "Fitting 110 distributions:  24%|███▌           | 26/110 [01:58<06:46,  4.83s/it]SKIPPED f distribution (taking more than 60 seconds)\n",
      "Fitting 110 distributions:  25%|███▋           | 27/110 [01:59<05:18,  3.84s/it]SKIPPED fatiguelife distribution (taking more than 60 seconds)\n",
      "Fitting 110 distributions:  28%|████▏          | 31/110 [02:40<10:45,  8.17s/it]SKIPPED gausshyper distribution (taking more than 60 seconds)\n",
      "Fitting 110 distributions:  29%|████▎          | 32/110 [02:40<07:29,  5.76s/it]SKIPPED genexpon distribution (taking more than 60 seconds)\n",
      "Fitting 110 distributions:  30%|████▌          | 33/110 [02:41<05:27,  4.25s/it]SKIPPED genextreme distribution (taking more than 60 seconds)\n",
      "Fitting 110 distributions:  33%|████▉          | 36/110 [02:47<03:25,  2.78s/it]SKIPPED gengamma distribution (taking more than 60 seconds)\n",
      "Fitting 110 distributions:  34%|█████          | 37/110 [02:48<02:37,  2.16s/it]SKIPPED genhalflogistic distribution (taking more than 60 seconds)\n",
      "Fitting 110 distributions:  35%|█████▏         | 38/110 [02:55<04:20,  3.62s/it]SKIPPED genhyperbolic distribution (taking more than 60 seconds)\n",
      "Fitting 110 distributions:  43%|██████▍        | 47/110 [03:30<03:29,  3.33s/it]SKIPPED genpareto distribution (taking more than 60 seconds)\n",
      "Fitting 110 distributions:  45%|██████▋        | 49/110 [03:53<08:14,  8.11s/it]SKIPPED kstwo distribution (taking more than 60 seconds)\n",
      "Fitting 110 distributions:  51%|███████▋       | 56/110 [04:14<02:55,  3.25s/it]SKIPPED johnsonsb distribution (taking more than 60 seconds)\n",
      "Fitting 110 distributions:  53%|███████▉       | 58/110 [04:18<02:14,  2.58s/it]SKIPPED johnsonsu distribution (taking more than 60 seconds)\n",
      "Fitting 110 distributions:  55%|████████▏      | 60/110 [04:29<03:19,  4.00s/it]SKIPPED kappa4 distribution (taking more than 60 seconds)\n",
      "Fitting 110 distributions:  56%|████████▍      | 62/110 [04:34<02:46,  3.47s/it]SKIPPED ksone distribution (taking more than 60 seconds)\n",
      "Fitting 110 distributions:  60%|█████████      | 66/110 [05:06<05:01,  6.84s/it]SKIPPED levy_stable distribution (taking more than 60 seconds)\n",
      "Fitting 110 distributions:  61%|█████████▏     | 67/110 [05:12<04:45,  6.65s/it]SKIPPED loggamma distribution (taking more than 60 seconds)\n",
      "Fitting 110 distributions:  62%|█████████▎     | 68/110 [05:14<03:32,  5.07s/it]SKIPPED lognorm distribution (taking more than 60 seconds)\n",
      "Fitting 110 distributions:  64%|█████████▌     | 70/110 [05:25<03:17,  4.93s/it]SKIPPED loguniform distribution (taking more than 60 seconds)\n",
      "Fitting 110 distributions:  65%|█████████▋     | 71/110 [05:29<02:58,  4.58s/it]SKIPPED lomax distribution (taking more than 60 seconds)\n",
      "Fitting 110 distributions:  67%|██████████     | 74/110 [05:32<01:18,  2.19s/it]SKIPPED mielke distribution (taking more than 60 seconds)\n",
      "Fitting 110 distributions:  71%|██████████▋    | 78/110 [05:59<04:03,  7.61s/it]SKIPPED ncf distribution (taking more than 60 seconds)\n",
      "Fitting 110 distributions:  72%|██████████▊    | 79/110 [06:06<03:47,  7.32s/it]SKIPPED nct distribution (taking more than 60 seconds)\n",
      "Fitting 110 distributions:  73%|██████████▉    | 80/110 [06:12<03:29,  6.97s/it]SKIPPED ncx2 distribution (taking more than 60 seconds)\n",
      "Fitting 110 distributions:  74%|███████████    | 81/110 [06:14<02:33,  5.30s/it]SKIPPED rv_continuous distribution (taking more than 60 seconds)\n",
      "SKIPPED rv_histogram distribution (taking more than 60 seconds)\n",
      "Fitting 110 distributions:  76%|███████████▍   | 84/110 [06:25<02:07,  4.90s/it]SKIPPED norminvgauss distribution (taking more than 60 seconds)\n",
      "Fitting 110 distributions:  78%|███████████▋   | 86/110 [06:30<01:38,  4.10s/it]SKIPPED powerlognorm distribution (taking more than 60 seconds)\n",
      "Fitting 110 distributions:  80%|████████████   | 88/110 [06:33<01:02,  2.82s/it]/home/junior/anaconda3/lib/python3.9/site-packages/scipy/integrate/_quadpack_py.py:1225: IntegrationWarning: The maximum number of subdivisions (50) has been achieved.\n",
      "  If increasing the limit yields no improvement it is advised to analyze \n",
      "  the integrand in order to determine the difficulties.  If the position of a \n",
      "  local difficulty can be determined (singularity, discontinuity) one will \n",
      "  probably gain from splitting up the interval and calling the integrator \n",
      "  on the subranges.  Perhaps a special-purpose integrator should be used.\n",
      "  quad_r = quad(f, low, high, args=args, full_output=self.full_output,\n",
      "Fitting 110 distributions:  81%|████████████▏  | 89/110 [06:54<02:45,  7.88s/it]/home/junior/anaconda3/lib/python3.9/site-packages/scipy/integrate/_quadpack_py.py:1225: IntegrationWarning: The integral is probably divergent, or slowly convergent.\n",
      "  quad_r = quad(f, low, high, args=args, full_output=self.full_output,\n",
      "Fitting 110 distributions:  83%|████████████▍  | 91/110 [06:59<01:37,  5.14s/it]SKIPPED recipinvgauss distribution (taking more than 60 seconds)\n",
      "Fitting 110 distributions:  85%|████████████▊  | 94/110 [07:11<01:14,  4.67s/it]SKIPPED studentized_range distribution (taking more than 60 seconds)\n",
      "Fitting 110 distributions:  88%|█████████████▏ | 97/110 [07:31<00:59,  4.60s/it]SKIPPED t distribution (taking more than 60 seconds)\n",
      "Fitting 110 distributions:  89%|█████████████▎ | 98/110 [07:32<00:42,  3.56s/it]SKIPPED triang distribution (taking more than 60 seconds)\n",
      "Fitting 110 distributions:  90%|█████████████▌ | 99/110 [07:59<01:56, 10.60s/it]SKIPPED truncexpon distribution (taking more than 60 seconds)\n",
      "Fitting 110 distributions:  91%|████████████▋ | 100/110 [07:59<01:15,  7.51s/it]SKIPPED truncnorm distribution (taking more than 60 seconds)\n",
      "Fitting 110 distributions:  92%|████████████▊ | 101/110 [08:00<00:47,  5.32s/it]SKIPPED truncpareto distribution (taking more than 60 seconds)\n",
      "Fitting 110 distributions:  93%|████████████▉ | 102/110 [08:06<00:44,  5.59s/it]SKIPPED truncweibull_min distribution (taking more than 60 seconds)\n",
      "Fitting 110 distributions:  95%|█████████████▏| 104/110 [08:24<00:45,  7.58s/it]SKIPPED tukeylambda distribution (taking more than 60 seconds)\n",
      "Fitting 110 distributions:  97%|█████████████▌| 107/110 [08:31<00:11,  3.86s/it]SKIPPED vonmises_line distribution (taking more than 60 seconds)\n",
      "Fitting 110 distributions: 100%|██████████████| 110/110 [08:58<00:00,  4.89s/it]\n"
     ]
    },
    {
     "data": {
      "text/html": [
       "<div>\n",
       "<style scoped>\n",
       "    .dataframe tbody tr th:only-of-type {\n",
       "        vertical-align: middle;\n",
       "    }\n",
       "\n",
       "    .dataframe tbody tr th {\n",
       "        vertical-align: top;\n",
       "    }\n",
       "\n",
       "    .dataframe thead th {\n",
       "        text-align: right;\n",
       "    }\n",
       "</style>\n",
       "<table border=\"1\" class=\"dataframe\">\n",
       "  <thead>\n",
       "    <tr style=\"text-align: right;\">\n",
       "      <th></th>\n",
       "      <th>sumsquare_error</th>\n",
       "      <th>aic</th>\n",
       "      <th>bic</th>\n",
       "      <th>kl_div</th>\n",
       "      <th>ks_statistic</th>\n",
       "      <th>ks_pvalue</th>\n",
       "    </tr>\n",
       "  </thead>\n",
       "  <tbody>\n",
       "    <tr>\n",
       "      <th>chi</th>\n",
       "      <td>1.026240e-07</td>\n",
       "      <td>872.907927</td>\n",
       "      <td>-252997.717234</td>\n",
       "      <td>inf</td>\n",
       "      <td>0.004837</td>\n",
       "      <td>0.972543</td>\n",
       "    </tr>\n",
       "    <tr>\n",
       "      <th>nakagami</th>\n",
       "      <td>1.028477e-07</td>\n",
       "      <td>873.033738</td>\n",
       "      <td>-252975.939382</td>\n",
       "      <td>inf</td>\n",
       "      <td>0.005173</td>\n",
       "      <td>0.950477</td>\n",
       "    </tr>\n",
       "    <tr>\n",
       "      <th>powernorm</th>\n",
       "      <td>1.035120e-07</td>\n",
       "      <td>872.020539</td>\n",
       "      <td>-252911.555289</td>\n",
       "      <td>inf</td>\n",
       "      <td>0.004427</td>\n",
       "      <td>0.989093</td>\n",
       "    </tr>\n",
       "    <tr>\n",
       "      <th>beta</th>\n",
       "      <td>1.097702e-07</td>\n",
       "      <td>869.317373</td>\n",
       "      <td>-252315.332507</td>\n",
       "      <td>inf</td>\n",
       "      <td>0.005788</td>\n",
       "      <td>0.889022</td>\n",
       "    </tr>\n",
       "    <tr>\n",
       "      <th>pearson3</th>\n",
       "      <td>1.235448e-07</td>\n",
       "      <td>861.656030</td>\n",
       "      <td>-251142.395634</td>\n",
       "      <td>inf</td>\n",
       "      <td>0.007542</td>\n",
       "      <td>0.617286</td>\n",
       "    </tr>\n",
       "  </tbody>\n",
       "</table>\n",
       "</div>"
      ],
      "text/plain": [
       "           sumsquare_error         aic            bic  kl_div  ks_statistic  \\\n",
       "chi           1.026240e-07  872.907927 -252997.717234     inf      0.004837   \n",
       "nakagami      1.028477e-07  873.033738 -252975.939382     inf      0.005173   \n",
       "powernorm     1.035120e-07  872.020539 -252911.555289     inf      0.004427   \n",
       "beta          1.097702e-07  869.317373 -252315.332507     inf      0.005788   \n",
       "pearson3      1.235448e-07  861.656030 -251142.395634     inf      0.007542   \n",
       "\n",
       "           ks_pvalue  \n",
       "chi         0.972543  \n",
       "nakagami    0.950477  \n",
       "powernorm   0.989093  \n",
       "beta        0.889022  \n",
       "pearson3    0.617286  "
      ]
     },
     "execution_count": 22,
     "metadata": {},
     "output_type": "execute_result"
    }
   ],
   "source": [
    "f = Fitter(results,distributions=get_distributions(),timeout=60,bins=50)#,xmin=0.1, xmax=1 ) \n",
    "#get_common_distributions() ##['gamma','lognorm',\"beta\",\"burr\",\"norm\"]\n",
    "f.fit()\n",
    "\n",
    "f.summary()"
   ]
  },
  {
   "cell_type": "code",
   "execution_count": 11,
   "id": "d8e6b35b",
   "metadata": {
    "ExecuteTime": {
     "end_time": "2023-07-16T21:20:49.146419Z",
     "start_time": "2023-07-16T21:20:48.985764Z"
    }
   },
   "outputs": [
    {
     "data": {
      "text/plain": [
       "{'powernorm': {'c': 0.17991120337774258,\n",
       "  'loc': 514.1173194334983,\n",
       "  'scale': 93.54968282371107}}"
      ]
     },
     "execution_count": 11,
     "metadata": {},
     "output_type": "execute_result"
    }
   ],
   "source": [
    "best_m=f.get_best(method = 'sumsquare_error')\n",
    "best_m"
   ]
  },
  {
   "cell_type": "code",
   "execution_count": 14,
   "id": "7b8f282f",
   "metadata": {
    "ExecuteTime": {
     "end_time": "2023-07-16T21:22:17.839189Z",
     "start_time": "2023-07-16T21:22:17.726272Z"
    }
   },
   "outputs": [
    {
     "data": {
      "text/plain": [
       "(713.422816844768, 170.68650037589848)"
      ]
     },
     "execution_count": 14,
     "metadata": {},
     "output_type": "execute_result"
    }
   ],
   "source": [
    "f.fitted_param['norm']"
   ]
  },
  {
   "cell_type": "code",
   "execution_count": 15,
   "id": "3026d5a6",
   "metadata": {
    "ExecuteTime": {
     "end_time": "2023-07-16T21:23:03.151092Z",
     "start_time": "2023-07-16T21:22:32.101575Z"
    }
   },
   "outputs": [
    {
     "name": "stderr",
     "output_type": "stream",
     "text": [
      "Fitting 10 distributions:  70%|████████████▌     | 7/10 [00:08<00:05,  1.89s/it]SKIPPED exponpow distribution (taking more than 30 seconds)\n",
      "Fitting 10 distributions:  80%|██████████████▍   | 8/10 [00:30<00:16,  8.10s/it]SKIPPED chi2 distribution (taking more than 30 seconds)\n",
      "SKIPPED lognorm distribution (taking more than 30 seconds)\n",
      "Fitting 10 distributions: 100%|█████████████████| 10/10 [00:30<00:00,  3.03s/it]\n"
     ]
    },
    {
     "data": {
      "text/html": [
       "<div>\n",
       "<style scoped>\n",
       "    .dataframe tbody tr th:only-of-type {\n",
       "        vertical-align: middle;\n",
       "    }\n",
       "\n",
       "    .dataframe tbody tr th {\n",
       "        vertical-align: top;\n",
       "    }\n",
       "\n",
       "    .dataframe thead th {\n",
       "        text-align: right;\n",
       "    }\n",
       "</style>\n",
       "<table border=\"1\" class=\"dataframe\">\n",
       "  <thead>\n",
       "    <tr style=\"text-align: right;\">\n",
       "      <th></th>\n",
       "      <th>sumsquare_error</th>\n",
       "      <th>aic</th>\n",
       "      <th>bic</th>\n",
       "      <th>kl_div</th>\n",
       "      <th>ks_statistic</th>\n",
       "      <th>ks_pvalue</th>\n",
       "    </tr>\n",
       "  </thead>\n",
       "  <tbody>\n",
       "    <tr>\n",
       "      <th>gamma</th>\n",
       "      <td>8.171977e-08</td>\n",
       "      <td>871.564498</td>\n",
       "      <td>-255275.471139</td>\n",
       "      <td>inf</td>\n",
       "      <td>0.005633</td>\n",
       "      <td>9.070044e-01</td>\n",
       "    </tr>\n",
       "    <tr>\n",
       "      <th>norm</th>\n",
       "      <td>4.178742e-07</td>\n",
       "      <td>894.426263</td>\n",
       "      <td>-238965.838177</td>\n",
       "      <td>inf</td>\n",
       "      <td>0.022637</td>\n",
       "      <td>6.965522e-05</td>\n",
       "    </tr>\n",
       "    <tr>\n",
       "      <th>cauchy</th>\n",
       "      <td>5.139595e-06</td>\n",
       "      <td>806.132892</td>\n",
       "      <td>-213870.345877</td>\n",
       "      <td>inf</td>\n",
       "      <td>0.087516</td>\n",
       "      <td>4.336798e-67</td>\n",
       "    </tr>\n",
       "    <tr>\n",
       "      <th>rayleigh</th>\n",
       "      <td>1.210165e-05</td>\n",
       "      <td>767.405336</td>\n",
       "      <td>-205306.670837</td>\n",
       "      <td>inf</td>\n",
       "      <td>0.189420</td>\n",
       "      <td>1.175245e-314</td>\n",
       "    </tr>\n",
       "    <tr>\n",
       "      <th>uniform</th>\n",
       "      <td>3.434475e-05</td>\n",
       "      <td>724.120839</td>\n",
       "      <td>-194875.596115</td>\n",
       "      <td>inf</td>\n",
       "      <td>0.330853</td>\n",
       "      <td>0.000000e+00</td>\n",
       "    </tr>\n",
       "  </tbody>\n",
       "</table>\n",
       "</div>"
      ],
      "text/plain": [
       "          sumsquare_error         aic            bic  kl_div  ks_statistic  \\\n",
       "gamma        8.171977e-08  871.564498 -255275.471139     inf      0.005633   \n",
       "norm         4.178742e-07  894.426263 -238965.838177     inf      0.022637   \n",
       "cauchy       5.139595e-06  806.132892 -213870.345877     inf      0.087516   \n",
       "rayleigh     1.210165e-05  767.405336 -205306.670837     inf      0.189420   \n",
       "uniform      3.434475e-05  724.120839 -194875.596115     inf      0.330853   \n",
       "\n",
       "              ks_pvalue  \n",
       "gamma      9.070044e-01  \n",
       "norm       6.965522e-05  \n",
       "cauchy     4.336798e-67  \n",
       "rayleigh  1.175245e-314  \n",
       "uniform    0.000000e+00  "
      ]
     },
     "execution_count": 15,
     "metadata": {},
     "output_type": "execute_result"
    }
   ],
   "source": [
    "f = Fitter(results,distributions=get_common_distributions(),bins=50,) \n",
    "#get_common_distributions() ##['gamma','lognorm',\"beta\",\"burr\",\"norm\"]\n",
    "f.fit()\n",
    "\n",
    "f.summary()"
   ]
  },
  {
   "cell_type": "code",
   "execution_count": null,
   "id": "11202481",
   "metadata": {},
   "outputs": [],
   "source": []
  }
 ],
 "metadata": {
  "hide_input": false,
  "kernelspec": {
   "display_name": "Python 3 (ipykernel)",
   "language": "python",
   "name": "python3"
  },
  "language_info": {
   "codemirror_mode": {
    "name": "ipython",
    "version": 3
   },
   "file_extension": ".py",
   "mimetype": "text/x-python",
   "name": "python",
   "nbconvert_exporter": "python",
   "pygments_lexer": "ipython3",
   "version": "3.9.13"
  },
  "latex_envs": {
   "LaTeX_envs_menu_present": true,
   "autoclose": false,
   "autocomplete": true,
   "bibliofile": "biblio.bib",
   "cite_by": "apalike",
   "current_citInitial": 1,
   "eqLabelWithNumbers": true,
   "eqNumInitial": 1,
   "hotkeys": {
    "equation": "Ctrl-E",
    "itemize": "Ctrl-I"
   },
   "labels_anchors": false,
   "latex_user_defs": false,
   "report_style_numbering": false,
   "user_envs_cfg": false
  },
  "toc": {
   "base_numbering": 1,
   "nav_menu": {},
   "number_sections": true,
   "sideBar": true,
   "skip_h1_title": true,
   "title_cell": "Table of Contents",
   "title_sidebar": "Contents",
   "toc_cell": true,
   "toc_position": {
    "height": "calc(100% - 180px)",
    "left": "10px",
    "top": "150px",
    "width": "222.193px"
   },
   "toc_section_display": true,
   "toc_window_display": false
  },
  "varInspector": {
   "cols": {
    "lenName": 16,
    "lenType": 16,
    "lenVar": 40
   },
   "kernels_config": {
    "python": {
     "delete_cmd_postfix": "",
     "delete_cmd_prefix": "del ",
     "library": "var_list.py",
     "varRefreshCmd": "print(var_dic_list())"
    },
    "r": {
     "delete_cmd_postfix": ") ",
     "delete_cmd_prefix": "rm(",
     "library": "var_list.r",
     "varRefreshCmd": "cat(var_dic_list()) "
    }
   },
   "types_to_exclude": [
    "module",
    "function",
    "builtin_function_or_method",
    "instance",
    "_Feature"
   ],
   "window_display": false
  }
 },
 "nbformat": 4,
 "nbformat_minor": 5
}
